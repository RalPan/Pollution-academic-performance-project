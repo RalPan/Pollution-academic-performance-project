{
 "cells": [
  {
   "cell_type": "markdown",
   "metadata": {
    "collapsed": true
   },
   "source": [
    "# Pollution and academic performance"
   ]
  },
  {
   "cell_type": "markdown",
   "metadata": {
    "collapsed": false
   },
   "source": [
    "This is the README for Pollution and Academic Performance."
   ]
  },
  {
   "cell_type": "markdown",
   "metadata": {
    "collapsed": false
   },
   "source": [
    "In order to replicate our analysis, please run all cells in this notebook.\n",
    "\n",
    "The report is this notebook, with all outputs. There are also supplementary notebooks, showing the development of our project."
   ]
  },
  {
   "cell_type": "markdown",
   "metadata": {
    "collapsed": false
   },
   "source": [
    "Our question is:\n",
    "\n",
    "_Does the level of N02 pollution around schools in London affect the attendance and attainment of the pupils?_\n",
    "\n",
    "Since the level of environmental pollution is at an increasing rate in the 21st century, we are keen to find if there is a correlation between the level of environmental pollution and the quality of educational performance. We selected the relevant data set of schools in London and extracted several related factors which are N02 (ug/m3 mean), attendance and average grade. We are going to compare the data to see if there is a correlation.\n",
    "\n",
    "It is important to see the correlation between pollution and attendance. N02 has been proven to cause respiratory issues, such as asthma. Health issues will affect attendance and performance.\n",
    "\n",
    "We did lots of research in this field, and we have discovered this has never been studied in the UK before. This was a further benefit of choosing to study this, we could contribute new information to the scientific community."
   ]
  },
  {
   "cell_type": "code",
   "execution_count": 106,
   "metadata": {
    "collapsed": false
   },
   "outputs": [
   ],
   "source": [
    "import numpy as np\n",
    "import matplotlib.pyplot as plt\n",
    "%matplotlib inline\n",
    "\n",
    "# Fancy plots\n",
    "plt.style.use('fivethirtyeight')\n",
    "\n",
    "# Data frame library\n",
    "import pandas as pd"
   ]
  },
  {
   "cell_type": "markdown",
   "metadata": {
    "collapsed": false
   },
   "source": [
    "Numpy is a python library. As we imported it, we added supports for multi-dimensional and large matrices and arrays, along with large collections of high level of mathematical functions to operate on these arrays.\n",
    "\n",
    "We used matplotlib which is a plotting library as it allows us to produce 2D graphics in various interactive environments.\n",
    "We used panda, which is a software library for python, it enables us to analyse and manipulate the data."
   ]
  },
  {
   "cell_type": "markdown",
   "metadata": {
    "collapsed": false
   },
   "source": [
    "# Literature review about 'Pollution and its effect on school absense'"
   ]
  },
  {
   "cell_type": "markdown",
   "metadata": {
    "collapsed": false
   },
   "source": [
    "1. In Janet Currie and her team-mates’ study and their literature about ‘Does pollution increase school absences’, they adopted the Texas Schools project which is a longitudinal administrative dataset of Texas’ student absenteeism. Then they aggregated the data of pollution from the Texas commission on quality of environment into 6week time blocks to combined with the administrative data of absenteeism. And they assumed that each person in different regions react similarly to the weather changes regardless of the implications of their actions for general air quality.  This assumption allows them to make relevant behavior changes uncorrelated with idiosyncratic changes in the quality of air so that they could put their focus on how the absences relate to the level of pollution. Through a set of experiments they did, they concluded that although they found a positive association between absences and level of pollution, they did not find out a monotonically increasing relationship between these two factors (Currie et al., 2009).\n",
    "\n",
    "\n"
   ]
  },
  {
   "cell_type": "markdown",
   "metadata": {
    "collapsed": false
   },
   "source": [
    "- Reference: Currie, J., Hanushek, E., Kahn, E., Neidell, M. and Rivkin, S. (2009). Does Pollution Increase School Absences?. Review of Economics and Statistics, [online] 91(4), pp.682-694. Available at: https://www.jstor.org/stable/25651370?seq=9#metadata_info_tab_contents [Accessed 17 Mar. 2019].\n",
    "\n"
   ]
  },
  {
   "cell_type": "markdown",
   "metadata": {
    "collapsed": false
   },
   "source": [
    "# Pollution and its effect on school absence"
   ]
  },
  {
   "cell_type": "markdown",
   "metadata": {
    "collapsed": false
   },
   "source": [
    "This project is using a data set from this links:\n",
    "- https://data.gov.uk/dataset/90b02236-3a4e-4899-8bdc-7f5122df4d9e/schools-and-educational-institutions-air-quality-exposure-data-broken-down-by-parliamentary-constituency\n",
    "- https://www.compare-school-performance.service.gov.uk/download-data?currentstep=datatypes&regiontype=all&la=0&downloadYear=2012-2013&datatypes=spine&datatypes=ks2&datatypes=ks4&datatypes=ks4underlying&datatypes=ks5&datatypes=pupilabsence&datatypes=Workforce&datatypes=spendperpupil&datatypes=spendperpupilgrouped\n",
    "\n",
    "We found this by looking at the open source data on data.gov "
   ]
  },
  {
   "cell_type": "markdown",
   "metadata": {
    "collapsed": false
   },
   "source": [
    "Now we load our data and display the columns in order to drop those not needed."
   ]
  },
  {
   "cell_type": "code",
   "execution_count": 107,
   "metadata": {
    "collapsed": false,
    "scrolled": true
   },
   "outputs": [
    {
     "data": {
      "text/plain": [
       "Index([u'URN', u'Local Authority name', u'Establisment name', u'Easting',\n",
       "       u'Northing', u'Type of Establishment', u'Phase of education',\n",
       "       u'NO2ug/m3 mean 2013', u'Above limit', u'Parliamentary Constituences',\n",
       "       u'Establishment Status', u'Close Date', u'Unnamed: 12'],\n",
       "      dtype='object')"
      ]
     },
     "execution_count": 107,
     "metadata": {
     },
     "output_type": "execute_result"
    }
   ],
   "source": [
    "schoolpolutiondata = pd.read_csv('school polution.csv')\n",
    "schoolpolutiondata.columns"
   ]
  },
  {
   "cell_type": "code",
   "execution_count": 108,
   "metadata": {
    "collapsed": false
   },
   "outputs": [
   ],
   "source": [
    "schoolpolutiondata = schoolpolutiondata.drop(['Local Authority name', 'Easting', 'Northing', 'Parliamentary Constituences', 'Close Date', 'Unnamed: 12'], axis=1)"
   ]
  },
  {
   "cell_type": "markdown",
   "metadata": {
    "collapsed": false
   },
   "source": [
    "Reference for the drop function: https://pandas.pydata.org/pandas-docs/stable/reference/api/pandas.DataFrame.drop.html"
   ]
  },
  {
   "cell_type": "code",
   "execution_count": 158,
   "metadata": {
    "collapsed": false
   },
   "outputs": [
    {
     "data": {
      "text/html": [
       "<div>\n",
       "<style scoped>\n",
       "    .dataframe tbody tr th:only-of-type {\n",
       "        vertical-align: middle;\n",
       "    }\n",
       "\n",
       "    .dataframe tbody tr th {\n",
       "        vertical-align: top;\n",
       "    }\n",
       "\n",
       "    .dataframe thead th {\n",
       "        text-align: right;\n",
       "    }\n",
       "</style>\n",
       "<table border=\"1\" class=\"dataframe\">\n",
       "  <thead>\n",
       "    <tr style=\"text-align: right;\">\n",
       "      <th></th>\n",
       "      <th>URN</th>\n",
       "      <th>Establisment name</th>\n",
       "      <th>Type of Establishment</th>\n",
       "      <th>Phase of education</th>\n",
       "      <th>NO2ug/m3 mean 2013</th>\n",
       "      <th>Above limit</th>\n",
       "      <th>Establishment Status</th>\n",
       "    </tr>\n",
       "  </thead>\n",
       "  <tbody>\n",
       "    <tr>\n",
       "      <th>4</th>\n",
       "      <td>101136</td>\n",
       "      <td>St Mary's Bryanston Square CofE School</td>\n",
       "      <td>Voluntary Aided School</td>\n",
       "      <td>Primary</td>\n",
       "      <td>67.0</td>\n",
       "      <td>Yes</td>\n",
       "      <td>Open</td>\n",
       "    </tr>\n",
       "    <tr>\n",
       "      <th>6</th>\n",
       "      <td>100351</td>\n",
       "      <td>St Paul's CofE Primary School</td>\n",
       "      <td>Voluntary Aided School</td>\n",
       "      <td>Primary</td>\n",
       "      <td>65.2</td>\n",
       "      <td>Yes</td>\n",
       "      <td>Open</td>\n",
       "    </tr>\n",
       "    <tr>\n",
       "      <th>7</th>\n",
       "      <td>101127</td>\n",
       "      <td>St Clement Danes CofE Primary School</td>\n",
       "      <td>Voluntary Aided School</td>\n",
       "      <td>Primary</td>\n",
       "      <td>65.0</td>\n",
       "      <td>Yes</td>\n",
       "      <td>Open</td>\n",
       "    </tr>\n",
       "    <tr>\n",
       "      <th>10</th>\n",
       "      <td>101140</td>\n",
       "      <td>St Peter's Eaton Square CofE Primary School</td>\n",
       "      <td>Voluntary Aided School</td>\n",
       "      <td>Primary</td>\n",
       "      <td>64.3</td>\n",
       "      <td>Yes</td>\n",
       "      <td>Open</td>\n",
       "    </tr>\n",
       "    <tr>\n",
       "      <th>11</th>\n",
       "      <td>100828</td>\n",
       "      <td>St George's Cathedral Catholic Primary School</td>\n",
       "      <td>Voluntary Aided School</td>\n",
       "      <td>Primary</td>\n",
       "      <td>64.3</td>\n",
       "      <td>Yes</td>\n",
       "      <td>Open</td>\n",
       "    </tr>\n",
       "  </tbody>\n",
       "</table>\n",
       "</div>"
      ]
     },
     "execution_count": 158,
     "metadata": {
     },
     "output_type": "execute_result"
    }
   ],
   "source": [
    "primary_data = schoolpolutiondata[schoolpolutiondata['Phase of education'] == 'Primary']\n",
    "primary_data.head()"
   ]
  },
  {
   "cell_type": "code",
   "execution_count": 159,
   "metadata": {
    "collapsed": false
   },
   "outputs": [
    {
     "data": {
      "text/html": [
       "<div>\n",
       "<style scoped>\n",
       "    .dataframe tbody tr th:only-of-type {\n",
       "        vertical-align: middle;\n",
       "    }\n",
       "\n",
       "    .dataframe tbody tr th {\n",
       "        vertical-align: top;\n",
       "    }\n",
       "\n",
       "    .dataframe thead th {\n",
       "        text-align: right;\n",
       "    }\n",
       "</style>\n",
       "<table border=\"1\" class=\"dataframe\">\n",
       "  <thead>\n",
       "    <tr style=\"text-align: right;\">\n",
       "      <th></th>\n",
       "      <th>LA</th>\n",
       "      <th>ESTAB</th>\n",
       "      <th>URN</th>\n",
       "      <th>PERCTOT</th>\n",
       "      <th>PPERSABS15</th>\n",
       "    </tr>\n",
       "  </thead>\n",
       "  <tbody>\n",
       "    <tr>\n",
       "      <th>0</th>\n",
       "      <td>201</td>\n",
       "      <td>3614</td>\n",
       "      <td>100000.0</td>\n",
       "      <td>3.5</td>\n",
       "      <td>0</td>\n",
       "    </tr>\n",
       "    <tr>\n",
       "      <th>1</th>\n",
       "      <td>202</td>\n",
       "      <td>2000</td>\n",
       "      <td>136807.0</td>\n",
       "      <td>5.4</td>\n",
       "      <td>SUPP</td>\n",
       "    </tr>\n",
       "    <tr>\n",
       "      <th>2</th>\n",
       "      <td>202</td>\n",
       "      <td>2019</td>\n",
       "      <td>100008.0</td>\n",
       "      <td>5.4</td>\n",
       "      <td>5.8</td>\n",
       "    </tr>\n",
       "    <tr>\n",
       "      <th>3</th>\n",
       "      <td>202</td>\n",
       "      <td>2036</td>\n",
       "      <td>100009.0</td>\n",
       "      <td>4.1</td>\n",
       "      <td>2.7</td>\n",
       "    </tr>\n",
       "    <tr>\n",
       "      <th>4</th>\n",
       "      <td>202</td>\n",
       "      <td>2065</td>\n",
       "      <td>100010.0</td>\n",
       "      <td>5.6</td>\n",
       "      <td>5.3</td>\n",
       "    </tr>\n",
       "  </tbody>\n",
       "</table>\n",
       "</div>"
      ]
     },
     "execution_count": 159,
     "metadata": {
     },
     "output_type": "execute_result"
    }
   ],
   "source": [
    "Absences = pd.read_csv('england_abs.csv')\n",
    "Absences.head()"
   ]
  },
  {
   "cell_type": "markdown",
   "metadata": {
    "collapsed": false
   },
   "source": [
    "- This code is to make pandas open and read the csv file. "
   ]
  },
  {
   "cell_type": "code",
   "execution_count": 160,
   "metadata": {
    "collapsed": false,
    "scrolled": true
   },
   "outputs": [
    {
     "data": {
      "text/html": [
       "<div>\n",
       "<style scoped>\n",
       "    .dataframe tbody tr th:only-of-type {\n",
       "        vertical-align: middle;\n",
       "    }\n",
       "\n",
       "    .dataframe tbody tr th {\n",
       "        vertical-align: top;\n",
       "    }\n",
       "\n",
       "    .dataframe thead th {\n",
       "        text-align: right;\n",
       "    }\n",
       "</style>\n",
       "<table border=\"1\" class=\"dataframe\">\n",
       "  <thead>\n",
       "    <tr style=\"text-align: right;\">\n",
       "      <th></th>\n",
       "      <th>LA</th>\n",
       "      <th>ESTAB</th>\n",
       "      <th>URN</th>\n",
       "      <th>PERCTOT</th>\n",
       "      <th>PPERSABS15</th>\n",
       "      <th>Establisment name</th>\n",
       "      <th>Type of Establishment</th>\n",
       "      <th>Phase of education</th>\n",
       "      <th>NO2ug/m3 mean 2013</th>\n",
       "      <th>Above limit</th>\n",
       "      <th>Establishment Status</th>\n",
       "    </tr>\n",
       "  </thead>\n",
       "  <tbody>\n",
       "    <tr>\n",
       "      <th>0</th>\n",
       "      <td>201</td>\n",
       "      <td>3614</td>\n",
       "      <td>100000.0</td>\n",
       "      <td>3.5</td>\n",
       "      <td>0</td>\n",
       "      <td>Sir John Cass's Foundation Primary School</td>\n",
       "      <td>Voluntary Aided School</td>\n",
       "      <td>Primary</td>\n",
       "      <td>62.6</td>\n",
       "      <td>Yes</td>\n",
       "      <td>Open</td>\n",
       "    </tr>\n",
       "    <tr>\n",
       "      <th>1</th>\n",
       "      <td>202</td>\n",
       "      <td>2000</td>\n",
       "      <td>136807.0</td>\n",
       "      <td>5.4</td>\n",
       "      <td>SUPP</td>\n",
       "      <td>St Luke's Church of England Primary</td>\n",
       "      <td>Free Schools</td>\n",
       "      <td>Primary</td>\n",
       "      <td>43.4</td>\n",
       "      <td>Yes</td>\n",
       "      <td>Open</td>\n",
       "    </tr>\n",
       "    <tr>\n",
       "      <th>2</th>\n",
       "      <td>202</td>\n",
       "      <td>2019</td>\n",
       "      <td>100008.0</td>\n",
       "      <td>5.4</td>\n",
       "      <td>5.8</td>\n",
       "      <td>Argyle Primary School</td>\n",
       "      <td>Community School</td>\n",
       "      <td>Primary</td>\n",
       "      <td>58.8</td>\n",
       "      <td>Yes</td>\n",
       "      <td>Open</td>\n",
       "    </tr>\n",
       "    <tr>\n",
       "      <th>3</th>\n",
       "      <td>202</td>\n",
       "      <td>2036</td>\n",
       "      <td>100009.0</td>\n",
       "      <td>4.1</td>\n",
       "      <td>2.7</td>\n",
       "      <td>Beckford Primary School</td>\n",
       "      <td>Community School</td>\n",
       "      <td>Primary</td>\n",
       "      <td>39.4</td>\n",
       "      <td>No</td>\n",
       "      <td>Open</td>\n",
       "    </tr>\n",
       "    <tr>\n",
       "      <th>4</th>\n",
       "      <td>202</td>\n",
       "      <td>2065</td>\n",
       "      <td>100010.0</td>\n",
       "      <td>5.6</td>\n",
       "      <td>5.3</td>\n",
       "      <td>Brecknock Primary School</td>\n",
       "      <td>Community School</td>\n",
       "      <td>Primary</td>\n",
       "      <td>43.9</td>\n",
       "      <td>Yes</td>\n",
       "      <td>Open</td>\n",
       "    </tr>\n",
       "  </tbody>\n",
       "</table>\n",
       "</div>"
      ]
     },
     "execution_count": 160,
     "metadata": {
     },
     "output_type": "execute_result"
    }
   ],
   "source": [
    "Absences_polution = pd.merge(Absences, primary_data, on='URN')\n",
    "Absences_polution.head()"
   ]
  },
  {
   "cell_type": "markdown",
   "metadata": {
    "collapsed": false
   },
   "source": [
    "We merged the \"Primary_data\" which is a column of data extracted from \"school pollution\" data frame with the different data frame named as \"Absences\" by using the coding that we searched from internet sources\n",
    "\n",
    "Reference: (https://pandas.pydata.org/pandas-docs/stable/reference/api/pandas.DataFrame.merge.html)"
   ]
  },
  {
   "cell_type": "markdown",
   "metadata": {
    "collapsed": false,
    "scrolled": true
   },
   "source": [
    "We made a data frame with only primary schools, this was because we decided to look at primary schools first, as there was an abundance of data to use. Once we had the programme written to analyze primary schools, it would be easy to adapt it for other ages."
   ]
  },
  {
   "cell_type": "markdown",
   "metadata": {
    "collapsed": false
   },
   "source": [
    "We will define two functions needed for cleaning up the data, we chose to define functions in order to boost reusability:"
   ]
  },
  {
   "cell_type": "markdown",
   "metadata": {
    "collapsed": false
   },
   "source": [
    "How it works:\n",
    "I found a function that checks if a value can be converted into a float and put it in the cell below.\n",
    "Source: Eric Leschinski: https://stackoverflow.com/questions/736043/checking-if-a-string-can-be-converted-to-float-in-python\n",
    "\n",
    "The way it does that is: it attempts to convert the variable to float by using the function float(). We expect to have the following non float values: NaN, NA and SUPP. NaN will pass throu the function and will be verified directly. The other non float values will raise \"ValueError\". This error is accounted for in the function and makes the function return \"False\"."
   ]
  },
  {
   "cell_type": "code",
   "execution_count": 112,
   "metadata": {
    "collapsed": false
   },
   "outputs": [
   ],
   "source": [
    "def isfloat(value):\n",
    "  try:\n",
    "    float(value)      #try to convert to float\n",
    "    return True\n",
    "  except ValueError:  #it's a word so it can't convert to float\n",
    "    return False"
   ]
  },
  {
   "cell_type": "markdown",
   "metadata": {
    "collapsed": false
   },
   "source": [
    "Small tests:"
   ]
  },
  {
   "cell_type": "code",
   "execution_count": 113,
   "metadata": {
    "collapsed": false
   },
   "outputs": [
    {
     "name": "stdout",
     "output_type": "stream",
     "text": [
      "True\n",
      "False\n",
      "True\n"
     ]
    }
   ],
   "source": [
    "print(isfloat('12.98'))\n",
    "print(isfloat('SUPP'))\n",
    "print(isfloat('NaN'))"
   ]
  },
  {
   "cell_type": "markdown",
   "metadata": {
    "collapsed": false
   },
   "source": [
    "Observe how NaN passes throu the function. This means that it will have to be taken care of seperatly."
   ]
  },
  {
   "cell_type": "markdown",
   "metadata": {
    "collapsed": false
   },
   "source": [
    "What the function below does:\n",
    "- we make a bool array(clean) of length equal to that of the column we want to sort (the array will have True at the positions of numbers and False at the positions of words and NaN values)\n",
    "- we use the array to sort the data frame\n",
    "- transform the strings to floats"
   ]
  },
  {
   "cell_type": "code",
   "execution_count": 114,
   "metadata": {
    "collapsed": false
   },
   "outputs": [
   ],
   "source": [
    "def all_floats (data_frame, colomn):\n",
    "    '''\n",
    "    This function returns a data frame where the original data frame's specified colomn is converted to float. Note: the function does not support any float that can not be transformed into a float directly by float().\n",
    "    Parameters:\n",
    "    data_frame - data frame of the column in question\n",
    "    column - string - name of colomn\n",
    "    Returns:\n",
    "    data frame where all the values in column are floats\n",
    "    '''\n",
    "    clean = np.zeros(len(data_frame[colomn]),dtype=bool)\n",
    "    cnt = 0\n",
    "    delete = 0\n",
    "    for row in data_frame[colomn]:\n",
    "        if row is not np.nan and isfloat(row) == True:\n",
    "            clean[cnt] = True\n",
    "        else:\n",
    "            clean[cnt] = False\n",
    "        cnt += 1\n",
    "    Clean_data_frame = data_frame[clean] #This delets all non numbers\n",
    "    Clean_data_frame[colomn] = Clean_data_frame[colomn].astype(np.float)\n",
    "    return Clean_data_frame"
   ]
  },
  {
   "cell_type": "markdown",
   "metadata": {
    "collapsed": false
   },
   "source": [
    "The data for short-term absences is stored in the colomn \"PERCTOT\"."
   ]
  },
  {
   "cell_type": "code",
   "execution_count": 115,
   "metadata": {
    "collapsed": false,
    "scrolled": true
   },
   "outputs": [
    {
     "data": {
      "text/plain": [
       "Text(0,0.5,'Concentration of NO2(ug/m3)')"
      ]
     },
     "execution_count": 115,
     "metadata": {
     },
     "output_type": "execute_result"
    },
    {
     "data": {
      "image/png": "[encoded data removed]"
     },
     "execution_count": 115,
     "metadata": {
     },
     "output_type": "execute_result"
    }
   ],
   "source": [
    "Absences_polution.plot.scatter('PERCTOT', 'NO2ug/m3 mean 2013', title = 'Pollution-Absences relationship', )\n",
    "plt.xlabel(\"Absences\")\n",
    "plt.ylabel(\"Concentration of NO2(ug/m3)\")"
   ]
  },
  {
   "cell_type": "code",
   "execution_count": 116,
   "metadata": {
    "collapsed": false
   },
   "outputs": [
   ],
   "source": [
    "#Here we split the table in Above- institutions above the polution limit at the time and Under- institutions below the polution limit at the time\n",
    "Above = Absences_polution.loc[Absences_polution['Above limit']=='Yes']\n",
    "Under = Absences_polution.loc[Absences_polution['Above limit']=='No']"
   ]
  },
  {
   "cell_type": "code",
   "execution_count": 117,
   "metadata": {
    "collapsed": false
   },
   "outputs": [
    {
     "data": {
      "text/plain": [
       "4.6"
      ]
     },
     "execution_count": 117,
     "metadata": {
     },
     "output_type": "execute_result"
    }
   ],
   "source": [
    "np.median(Absences_polution['PERCTOT'])"
   ]
  },
  {
   "cell_type": "code",
   "execution_count": 118,
   "metadata": {
    "collapsed": false
   },
   "outputs": [
    {
     "data": {
      "text/plain": [
       "4.7"
      ]
     },
     "execution_count": 118,
     "metadata": {
     },
     "output_type": "execute_result"
    }
   ],
   "source": [
    "np.median(Above['PERCTOT'])"
   ]
  },
  {
   "cell_type": "code",
   "execution_count": 119,
   "metadata": {
    "collapsed": false
   },
   "outputs": [
    {
     "data": {
      "text/plain": [
       "4.6"
      ]
     },
     "execution_count": 119,
     "metadata": {
     },
     "output_type": "execute_result"
    }
   ],
   "source": [
    "np.median(Under['PERCTOT'])"
   ]
  },
  {
   "cell_type": "markdown",
   "metadata": {
    "collapsed": false
   },
   "source": [
    "We used plot.scatter to produce a scatter graph for two variables which are 'level of NO2' and 'Percentage of absences'\n",
    "\n",
    "Also, we calculated the median for the:\n",
    "- total absences 4.6\n",
    "- absences of institutions above the pollution limit 4.7\n",
    "- absences of institutions under the pollution limit 4.6"
   ]
  },
  {
   "cell_type": "markdown",
   "metadata": {
    "collapsed": false
   },
   "source": [
    "As the graph shows, the level of NO2 and the percentage of absences do not have a significant correlation as most of the points are allocated on the similar area instead of locating as a linear regression line.\n",
    "\n",
    "Also, the medians have very close values.\n",
    "\n",
    "We conclude that pollution and absences are not strongly correlated."
   ]
  },
  {
   "cell_type": "markdown",
   "metadata": {
    "collapsed": false
   },
   "source": [
    "We moved on to prolonged absences."
   ]
  },
  {
   "cell_type": "markdown",
   "metadata": {
    "collapsed": false
   },
   "source": [
    "The data for prolonged absences is stored in the column \"PPERSABS15\"."
   ]
  },
  {
   "cell_type": "code",
   "execution_count": 1,
   "metadata": {
    "collapsed": false,
    "scrolled": true
   },
   "outputs": [
    {
     "ename": "NameError",
     "evalue": "name 'all_floats' is not defined",
     "output_type": "error",
     "traceback": [
      "\u001b[0;31m---------------------------------------------------------------------------\u001b[0m",
      "\u001b[0;31mNameError\u001b[0m                                 Traceback (most recent call last)",
      "\u001b[0;32m<ipython-input-1-3ecf9c12ebdc>\u001b[0m in \u001b[0;36m<module>\u001b[0;34m()\u001b[0m\n\u001b[0;32m----> 1\u001b[0;31m \u001b[0mAbsences_polution\u001b[0m \u001b[0;34m=\u001b[0m \u001b[0mall_floats\u001b[0m\u001b[0;34m(\u001b[0m\u001b[0mAbsences_polution\u001b[0m\u001b[0;34m,\u001b[0m \u001b[0;34m'PPERSABS15'\u001b[0m\u001b[0;34m)\u001b[0m\u001b[0;34m\u001b[0m\u001b[0m\n\u001b[0m\u001b[1;32m      2\u001b[0m \u001b[0mAbsences_polution\u001b[0m\u001b[0;34m.\u001b[0m\u001b[0mhead\u001b[0m\u001b[0;34m(\u001b[0m\u001b[0;34m)\u001b[0m\u001b[0;34m\u001b[0m\u001b[0m\n",
      "\u001b[0;31mNameError\u001b[0m: name 'all_floats' is not defined"
     ]
    }
   ],
   "source": [
    "Absences_polution = all_floats(Absences_polution, 'PPERSABS15')\n",
    "Absences_polution.head()"
   ]
  },
  {
   "cell_type": "code",
   "execution_count": 0,
   "metadata": {
    "collapsed": false
   },
   "outputs": [
   ],
   "source": [
    "Absences_polution.plot.scatter('PPERSABS15', 'NO2ug/m3 mean 2013', title = 'Pollution-Extended Absences relationship')\n",
    "plt.xlabel(\"Extended Absences\")\n",
    "plt.ylabel(\"Concentration of NO2(ug/m3)\")"
   ]
  },
  {
   "cell_type": "code",
   "execution_count": 2,
   "metadata": {
    "collapsed": false
   },
   "outputs": [
    {
     "ename": "NameError",
     "evalue": "name 'Absences_polution' is not defined",
     "output_type": "error",
     "traceback": [
      "\u001b[0;31m---------------------------------------------------------------------------\u001b[0m",
      "\u001b[0;31mNameError\u001b[0m                                 Traceback (most recent call last)",
      "\u001b[0;32m<ipython-input-2-25fd1a0cb25d>\u001b[0m in \u001b[0;36m<module>\u001b[0;34m()\u001b[0m\n\u001b[0;32m----> 1\u001b[0;31m \u001b[0mAbove\u001b[0m \u001b[0;34m=\u001b[0m \u001b[0mAbsences_polution\u001b[0m\u001b[0;34m.\u001b[0m\u001b[0mloc\u001b[0m\u001b[0;34m[\u001b[0m\u001b[0mAbsences_polution\u001b[0m\u001b[0;34m[\u001b[0m\u001b[0;34m'Above limit'\u001b[0m\u001b[0;34m]\u001b[0m\u001b[0;34m==\u001b[0m\u001b[0;34m'Yes'\u001b[0m\u001b[0;34m]\u001b[0m\u001b[0;34m\u001b[0m\u001b[0m\n\u001b[0m\u001b[1;32m      2\u001b[0m \u001b[0mUnder\u001b[0m \u001b[0;34m=\u001b[0m \u001b[0mAbsences_polution\u001b[0m\u001b[0;34m.\u001b[0m\u001b[0mloc\u001b[0m\u001b[0;34m[\u001b[0m\u001b[0mAbsences_polution\u001b[0m\u001b[0;34m[\u001b[0m\u001b[0;34m'Above limit'\u001b[0m\u001b[0;34m]\u001b[0m\u001b[0;34m==\u001b[0m\u001b[0;34m'No'\u001b[0m\u001b[0;34m]\u001b[0m\u001b[0;34m\u001b[0m\u001b[0m\n",
      "\u001b[0;31mNameError\u001b[0m: name 'Absences_polution' is not defined"
     ]
    }
   ],
   "source": [
    "Above = Absences_polution.loc[Absences_polution['Above limit']=='Yes']\n",
    "Under = Absences_polution.loc[Absences_polution['Above limit']=='No']"
   ]
  },
  {
   "cell_type": "code",
   "execution_count": 3,
   "metadata": {
    "collapsed": false
   },
   "outputs": [
    {
     "ename": "NameError",
     "evalue": "name 'np' is not defined",
     "output_type": "error",
     "traceback": [
      "\u001b[0;31m---------------------------------------------------------------------------\u001b[0m",
      "\u001b[0;31mNameError\u001b[0m                                 Traceback (most recent call last)",
      "\u001b[0;32m<ipython-input-3-17f65d4a3c08>\u001b[0m in \u001b[0;36m<module>\u001b[0;34m()\u001b[0m\n\u001b[0;32m----> 1\u001b[0;31m \u001b[0mPPERSABS15_Above_mean\u001b[0m \u001b[0;34m=\u001b[0m \u001b[0mnp\u001b[0m\u001b[0;34m.\u001b[0m\u001b[0mmean\u001b[0m\u001b[0;34m(\u001b[0m\u001b[0mAbove\u001b[0m\u001b[0;34m[\u001b[0m\u001b[0;34m'PPERSABS15'\u001b[0m\u001b[0;34m]\u001b[0m\u001b[0;34m)\u001b[0m\u001b[0;34m\u001b[0m\u001b[0m\n\u001b[0m\u001b[1;32m      2\u001b[0m \u001b[0mPPERSABS15_Above_mean\u001b[0m\u001b[0;34m\u001b[0m\u001b[0m\n",
      "\u001b[0;31mNameError\u001b[0m: name 'np' is not defined"
     ]
    }
   ],
   "source": [
    "PPERSABS15_Above_mean = np.mean(Above['PPERSABS15'])\n",
    "PPERSABS15_Above_mean"
   ]
  },
  {
   "cell_type": "code",
   "execution_count": 124,
   "metadata": {
    "collapsed": false
   },
   "outputs": [
    {
     "data": {
      "text/plain": [
       "3.6452461799660476"
      ]
     },
     "execution_count": 124,
     "metadata": {
     },
     "output_type": "execute_result"
    }
   ],
   "source": [
    "PPERSABS15_Under_mean = np.mean(Under['PPERSABS15'])\n",
    "PPERSABS15_Under_mean"
   ]
  },
  {
   "cell_type": "code",
   "execution_count": 125,
   "metadata": {
    "collapsed": false
   },
   "outputs": [
    {
     "data": {
      "text/plain": [
       "3.688511216859283"
      ]
     },
     "execution_count": 125,
     "metadata": {
     },
     "output_type": "execute_result"
    }
   ],
   "source": [
    "PPERSABS15_General_mean = np.mean(Absences_polution['PPERSABS15'])\n",
    "PPERSABS15_General_mean"
   ]
  },
  {
   "cell_type": "markdown",
   "metadata": {
    "collapsed": false
   },
   "source": [
    "Previously, we have 3 codings which are:\n",
    "\n",
    " 1. Absences = pd.read_csv('england_abs.csv')\n",
    " 2. Absences_polution=pd.merge(Absences, primary_data, on='URN')\n",
    " 3. Absences_polution = Absences_polution.drop (['Unnamed: 12', 'Close Date', 'PPERSABS15'], axis=1)\n",
    "\n",
    "In the process of tidying up the coding, we found out these 3 coding has been run before which means they are three extra codings that can be avoided. Therefore, we decided to eliminate these 3 codings to make our project more clearer and understandable.\n"
   ]
  },
  {
   "cell_type": "markdown",
   "metadata": {
    "collapsed": false
   },
   "source": [
    "# Literature review about 'Pollution and its effect on academic performance'"
   ]
  },
  {
   "cell_type": "markdown",
   "metadata": {
    "collapsed": false
   },
   "source": [
    "- In Miller and his team-mates’ study and their literature about ‘The Effects of air pollution on educational outcomes: Evidence from Chile’, they adopted the school-level pollution data from 1997 to 2012 that is reported and published by the SINCA (Sistema de Information Nacional de Calidad del Aire) of the environment ministry. For the school performance data, they used the test scores generated by the SIMCE (Sistema de Medicion de la Calidad de la Educacion) test that is undertaken by the Education Ministry for all schools in Chile. Then they made a assumption that unnoticed time-varying variables would not have a impact on both test scores and pollution. Through a set of experiments and analysis, they concluded that they found out some regressions that indicated a strong negative association between pollution and school performance (Miller and Vela, 2013)\n",
    "\n"
   ]
  },
  {
   "cell_type": "markdown",
   "metadata": {
    "collapsed": false
   },
   "source": [
    "- Reference: Miller, S. and Vela, M. (2013). The Effects of Air Pollution on Educational Outcomes: Evidence from Chile. SSRN Electronic Journal. [online] Available at: https://publications.iadb.org/en/publication/11349/effects-air-pollution-educational-outcomes-evidence-chile [Accessed 17 Mar. 2019].\n",
    "\n"
   ]
  },
  {
   "cell_type": "markdown",
   "metadata": {
    "collapsed": false
   },
   "source": [
    "# Pollution and its effect on academic performance"
   ]
  },
  {
   "cell_type": "code",
   "execution_count": 126,
   "metadata": {
    "collapsed": false,
    "scrolled": true
   },
   "outputs": [
   ],
   "source": [
    "performance_data = pd.read_csv('england_ks2final_primary.csv')"
   ]
  },
  {
   "cell_type": "code",
   "execution_count": 127,
   "metadata": {
    "collapsed": false
   },
   "outputs": [
    {
     "data": {
      "text/plain": [
       "Index([u'RECTYPE', u'ALPHAIND', u'LEA', u'ESTAB', u'URN', u'SCHNAME',\n",
       "       u'ADDRESS1', u'ADDRESS2', u'ADDRESS3', u'TOWN',\n",
       "       ...\n",
       "       u'GAP_2YR_PRWRIT', u'GAP_3YR_PRMAT', u'GAPN_3YR_RWMX_FSMCLA',\n",
       "       u'GAPN_2YR_PRREAD_FSMCLA', u'GAPN_2YR_PRWRIT_FSMCLA',\n",
       "       u'GAPN_3YR_PRMAT_FSMCLA', u'GAPN_3YR_RWMX_NOTFSMCLA',\n",
       "       u'GAPN_2YR_PRREAD_NOTFSMCLA', u'GAPN_2YR_PRWRIT_NOTFSMCLA',\n",
       "       u'GAPN_3YR_PRMAT_NOTFSMCLA'],\n",
       "      dtype='object', length=300)"
      ]
     },
     "execution_count": 127,
     "metadata": {
     },
     "output_type": "execute_result"
    }
   ],
   "source": [
    "performance_data.columns"
   ]
  },
  {
   "cell_type": "markdown",
   "metadata": {
    "collapsed": false
   },
   "source": [
    "There are many columns we don't need. So, we will cut the unnecessary columns."
   ]
  },
  {
   "cell_type": "code",
   "execution_count": 128,
   "metadata": {
    "collapsed": false
   },
   "outputs": [
   ],
   "source": [
    "performance_data = performance_data.drop(['RECTYPE','PCODE','TELNUM','TKS1EXP_L','PKS1EXP_L', 'TKS1EXP_M', 'PKS1EXP_M', 'TKS1EXP_H', 'PKS1EXP_H', 'TFSMCLA', 'PTFSMCLA', 'PT2MATH12', 'PT2READ12', 'PT2WRITTA12', 'AVGLEVEL', 'PT2MATH12_B', 'PT2MATH12_G', 'PT2MATH12_L', 'PT2MATH12_M', 'PT2MATH12_H', 'PTREADX', 'PTREADAT', 'GAPN_3YR_RWMX_FSMCLA', 'GAPN_2YR_PRREAD_NOTFSMCLA', 'GAPN_2YR_PRWRIT_NOTFSMCLA', 'GAPN_3YR_PRMAT_NOTFSMCLA'],axis=1)"
   ]
  },
  {
   "cell_type": "markdown",
   "metadata": {
    "collapsed": true
   },
   "source": [
    "During codeing review we found this code to be inefficient:\n",
    "\n",
    "- performance_abs_pol = pd.merge(Absences_polution, performance_data, on='URN')"
   ]
  },
  {
   "cell_type": "code",
   "execution_count": 129,
   "metadata": {
    "collapsed": false
   },
   "outputs": [
   ],
   "source": [
    "performance_pol = pd.merge(schoolpolutiondata, performance_data, on='URN')"
   ]
  },
  {
   "cell_type": "code",
   "execution_count": 130,
   "metadata": {
    "collapsed": false
   },
   "outputs": [
    {
     "name": "stderr",
     "output_type": "stream",
     "text": [
      "/ext/sage/sage-8.6_1804/local/lib/python2.7/site-packages/sage/repl/ipython_kernel/__main__.py:20: SettingWithCopyWarning: \n",
      "A value is trying to be set on a copy of a slice from a DataFrame.\n",
      "Try using .loc[row_indexer,col_indexer] = value instead\n",
      "\n",
      "See the caveats in the documentation: http://pandas.pydata.org/pandas-docs/stable/indexing.html#indexing-view-versus-copy\n"
     ]
    }
   ],
   "source": [
    "Clean_perf_pol = all_floats (performance_pol, 'TAPS')"
   ]
  },
  {
   "cell_type": "markdown",
   "metadata": {
    "collapsed": false
   },
   "source": [
    "Now we will calculate the median values of the performance of institutions above and below the accepted pollution limit."
   ]
  },
  {
   "cell_type": "code",
   "execution_count": 132,
   "metadata": {
    "collapsed": false
   },
   "outputs": [
   ],
   "source": [
    "Above = Clean_perf_pol[Clean_perf_pol['Above limit']=='Yes']\n",
    "Under = Clean_perf_pol[Clean_perf_pol['Above limit']=='No']"
   ]
  },
  {
   "cell_type": "code",
   "execution_count": 133,
   "metadata": {
    "collapsed": false
   },
   "outputs": [
    {
     "name": "stdout",
     "output_type": "stream",
     "text": [
      "29.0\n",
      "28.7\n",
      "29.1\n"
     ]
    }
   ],
   "source": [
    "print(np.median(Clean_perf_pol['TAPS']))\n",
    "print(np.median(Above['TAPS']))\n",
    "print(np.median(Under['TAPS']))"
   ]
  },
  {
   "cell_type": "code",
   "execution_count": 134,
   "metadata": {
    "collapsed": false
   },
   "outputs": [
    {
     "data": {
      "text/plain": [
       "Text(0,0.5,'Concentration of NO2(ug/m3)')"
      ]
     },
     "execution_count": 134,
     "metadata": {
     },
     "output_type": "execute_result"
    },
    {
     "data": {
      "image/png": "[encoded data removed]"
     },
     "execution_count": 134,
     "metadata": {
     },
     "output_type": "execute_result"
    }
   ],
   "source": [
    "Clean_perf_pol.plot.scatter('TAPS', 'NO2ug/m3 mean 2013',title = 'Pollution-Academic Performance relationship')\n",
    "plt.xlabel(\"Academic Performance\")\n",
    "plt.ylabel(\"Concentration of NO2(ug/m3)\")"
   ]
  },
  {
   "cell_type": "markdown",
   "metadata": {
    "collapsed": false
   },
   "source": [
    "Those points that are loacated at the left hand side of the scatter graph seems odd. Therefore, we want to figure out if these schools are special schools, such as school for disabled students,  as this would explain this unusual distribution."
   ]
  },
  {
   "cell_type": "code",
   "execution_count": 135,
   "metadata": {
    "collapsed": false,
    "scrolled": true
   },
   "outputs": [
   ],
   "source": [
    "Taps_less_than_20= Clean_perf_pol['TAPS'] < 20"
   ]
  },
  {
   "cell_type": "code",
   "execution_count": 136,
   "metadata": {
    "collapsed": false
   },
   "outputs": [
    {
     "data": {
      "text/plain": [
       "37"
      ]
     },
     "execution_count": 136,
     "metadata": {
     },
     "output_type": "execute_result"
    }
   ],
   "source": [
    "np.count_nonzero(Taps_less_than_20)"
   ]
  },
  {
   "cell_type": "code",
   "execution_count": 137,
   "metadata": {
    "collapsed": false,
    "scrolled": true
   },
   "outputs": [
    {
     "name": "stderr",
     "output_type": "stream",
     "text": [
      "WARNING: Some output was deleted.\n"
     ]
    }
   ],
   "source": [
    "Clean_perf_pol[Taps_less_than_20]"
   ]
  },
  {
   "cell_type": "markdown",
   "metadata": {
    "collapsed": false
   },
   "source": [
    "By looking at the TAPS value that are less than 20, we could clearly see that these schools are all special schools which explains the scatterplot distribution."
   ]
  },
  {
   "cell_type": "markdown",
   "metadata": {
    "collapsed": false
   },
   "source": [
    "Let's see how funding works into this."
   ]
  },
  {
   "cell_type": "markdown",
   "metadata": {
    "collapsed": false
   },
   "source": [
    "# This analysis uses grants offered to schools for various reasons\n",
    "Includes funds delegated by the LA, funding for 6th form students, SEN funding, funding for minority ethnic pupils, standards fund, other government grants, other grants and payments, SSG pupil focused, pupil focused extended school funding and/or grants and Additional grant for schools."
   ]
  },
  {
   "cell_type": "code",
   "execution_count": 138,
   "metadata": {
    "collapsed": false
   },
   "outputs": [
    {
     "data": {
      "text/plain": [
       "Text(0,0.5,'Concentration of NO2(ug/m3)')"
      ]
     },
     "execution_count": 138,
     "metadata": {
     },
     "output_type": "execute_result"
    },
    {
     "data": {
      "image/png": "[encoded data removed]"
     },
     "execution_count": 138,
     "metadata": {
     },
     "output_type": "execute_result"
    }
   ],
   "source": [
    "funds = pd.read_csv('england_cfr.csv')\n",
    "Pol_funds = pd.merge(Clean_perf_pol, funds, on = 'URN')\n",
    "Pol_funds.plot.scatter('TAPS', 'NO2ug/m3 mean 2013',c = 'GRANTFUNDING', colormap = 'gist_rainbow',title = 'Pollution-Academic Performance-Grant Funding relationship')\n",
    "plt.xlabel(\"Academic Performance\")\n",
    "plt.ylabel(\"Concentration of NO2(ug/m3)\")"
   ]
  },
  {
   "cell_type": "code",
   "execution_count": 139,
   "metadata": {
    "collapsed": false
   },
   "outputs": [
    {
     "data": {
      "text/plain": [
       "Text(0,0.5,'Grant funding')"
      ]
     },
     "execution_count": 139,
     "metadata": {
     },
     "output_type": "execute_result"
    },
    {
     "data": {
      "image/png": "[encoded data removed]"
     },
     "execution_count": 139,
     "metadata": {
     },
     "output_type": "execute_result"
    }
   ],
   "source": [
    "Pol_funds.plot.scatter('NO2ug/m3 mean 2013', 'GRANTFUNDING',title = 'Grant Funding-Pollution relationship')\n",
    "plt.xlabel(\"Concentration of NO2(ug/m3)\")\n",
    "plt.ylabel(\"Grant funding\")"
   ]
  },
  {
   "cell_type": "code",
   "execution_count": 140,
   "metadata": {
    "collapsed": false
   },
   "outputs": [
    {
     "data": {
      "text/html": [
       "<div>\n",
       "<style scoped>\n",
       "    .dataframe tbody tr th:only-of-type {\n",
       "        vertical-align: middle;\n",
       "    }\n",
       "\n",
       "    .dataframe tbody tr th {\n",
       "        vertical-align: top;\n",
       "    }\n",
       "\n",
       "    .dataframe thead th {\n",
       "        text-align: right;\n",
       "    }\n",
       "</style>\n",
       "<table border=\"1\" class=\"dataframe\">\n",
       "  <thead>\n",
       "    <tr style=\"text-align: right;\">\n",
       "      <th></th>\n",
       "      <th>URN</th>\n",
       "      <th>Establisment name</th>\n",
       "      <th>Type of Establishment</th>\n",
       "      <th>Phase of education</th>\n",
       "      <th>NO2ug/m3 mean 2013</th>\n",
       "      <th>Above limit</th>\n",
       "      <th>Establishment Status</th>\n",
       "      <th>ALPHAIND</th>\n",
       "      <th>LEA</th>\n",
       "      <th>ESTAB</th>\n",
       "      <th>...</th>\n",
       "      <th>PT1112CAT3LA</th>\n",
       "      <th>PT1213CAT3LA</th>\n",
       "      <th>PT0910CAT4LA</th>\n",
       "      <th>PT1011CAT4LA</th>\n",
       "      <th>PT1112CAT4LA</th>\n",
       "      <th>PT1213CAT4LA</th>\n",
       "      <th>PT0910CAT5LA</th>\n",
       "      <th>PT1011CAT5LA</th>\n",
       "      <th>PT1112CAT5LA</th>\n",
       "      <th>PT1213CAT5LA</th>\n",
       "    </tr>\n",
       "  </thead>\n",
       "  <tbody>\n",
       "    <tr>\n",
       "      <th>1130</th>\n",
       "      <td>100763</td>\n",
       "      <td>New Woodlands School</td>\n",
       "      <td>Community Special School</td>\n",
       "      <td>Not applicable</td>\n",
       "      <td>31.2</td>\n",
       "      <td>No</td>\n",
       "      <td>Open</td>\n",
       "      <td>33568.0</td>\n",
       "      <td>209.0</td>\n",
       "      <td>7141.0</td>\n",
       "      <td>...</td>\n",
       "      <td>NaN</td>\n",
       "      <td>NaN</td>\n",
       "      <td>NaN</td>\n",
       "      <td>NaN</td>\n",
       "      <td>NaN</td>\n",
       "      <td>NaN</td>\n",
       "      <td>NaN</td>\n",
       "      <td>NaN</td>\n",
       "      <td>NaN</td>\n",
       "      <td>NaN</td>\n",
       "    </tr>\n",
       "  </tbody>\n",
       "</table>\n",
       "<p>1 rows × 407 columns</p>\n",
       "</div>"
      ]
     },
     "execution_count": 140,
     "metadata": {
     },
     "output_type": "execute_result"
    }
   ],
   "source": [
    "Pol_funds[Pol_funds['GRANTFUNDING']>200000]"
   ]
  },
  {
   "cell_type": "markdown",
   "metadata": {
    "collapsed": false
   },
   "source": [
    "This school is for kids with Social, emotional and mental health (SEMH) needs. These are a type of special educational needs in which children/young people have severe difficulties in managing their emotions and behaviour. The school runs lots of outreach programmes for parents of the children who attend. These help to improve the home life of the pupils, which may be a factor in their behaviour. This is the reason why the school gets lots of funding, because it spends lots of money on supporting the pupils and their parents."
   ]
  },
  {
   "cell_type": "markdown",
   "metadata": {
    "collapsed": false
   },
   "source": [
    "We don't have problems with this school below because we only work with primary school data in the Absences_polution data frame, and with the label of \"special school\", our coding doesn't select it."
   ]
  },
  {
   "cell_type": "code",
   "execution_count": 141,
   "metadata": {
    "collapsed": false
   },
   "outputs": [
    {
     "data": {
      "text/plain": [
       "Text(0,0.5,'Concentration of NO2(ug/m3)')"
      ]
     },
     "execution_count": 141,
     "metadata": {
     },
     "output_type": "execute_result"
    },
    {
     "data": {
      "image/png": "[encoded data removed]"
     },
     "execution_count": 141,
     "metadata": {
     },
     "output_type": "execute_result"
    }
   ],
   "source": [
    "funding_absences = pd.merge(Absences_polution, funds, on='URN')\n",
    "funding_absences.plot.scatter('PERCTOT', 'NO2ug/m3 mean 2013',c = 'GRANTFUNDING', colormap = 'gist_rainbow', title = 'Pollution-Absence-Grant Funding relationship')\n",
    "plt.xlabel(\"Absence\")\n",
    "plt.ylabel(\"Concentration of NO2(ug/m3)\")"
   ]
  },
  {
   "cell_type": "code",
   "execution_count": 166,
   "metadata": {
    "collapsed": false
   },
   "outputs": [
    {
     "data": {
      "text/plain": [
       "Text(0,0.5,'Grant funding')"
      ]
     },
     "execution_count": 166,
     "metadata": {
     },
     "output_type": "execute_result"
    },
    {
     "data": {
      "image/png": "[encoded data removed]"
     },
     "execution_count": 166,
     "metadata": {
     },
     "output_type": "execute_result"
    }
   ],
   "source": [
    "funding_absences.plot.scatter('NO2ug/m3 mean 2013', 'GRANTFUNDING',title = 'Grant Funding-Pollution relationship')\n",
    "plt.xlabel(\"Concentration of NO2(ug/m3)\")\n",
    "plt.ylabel(\"Grant funding\")"
   ]
  },
  {
   "cell_type": "code",
   "execution_count": 164,
   "metadata": {
    "collapsed": false
   },
   "outputs": [
    {
     "data": {
      "text/plain": [
       "Text(0,0.5,'Grant funding')"
      ]
     },
     "execution_count": 164,
     "metadata": {
     },
     "output_type": "execute_result"
    },
    {
     "data": {
      "image/png": "[encoded data removed]"
     },
     "execution_count": 164,
     "metadata": {
     },
     "output_type": "execute_result"
    }
   ],
   "source": [
    "funding_absences.plot.scatter('PERCTOT', 'GRANTFUNDING',title = 'Grant Funding-Absences relationship')\n",
    "plt.xlabel(\"Absences\")\n",
    "plt.ylabel(\"Grant funding\")"
   ]
  },
  {
   "cell_type": "markdown",
   "metadata": {
    "collapsed": false
   },
   "source": [
    "# This uses income generated by the facility\n",
    "Includes income from facilities and services, receipts from other insurance claims, income from contributions to visits etc, donations and/or private funds."
   ]
  },
  {
   "cell_type": "code",
   "execution_count": 165,
   "metadata": {
    "collapsed": false
   },
   "outputs": [
    {
     "data": {
      "text/plain": [
       "Text(0,0.5,'Concentration of NO2(ug/m3)')"
      ]
     },
     "execution_count": 165,
     "metadata": {
     },
     "output_type": "execute_result"
    },
    {
     "data": {
      "image/png": "[encoded data removed]"
     },
     "execution_count": 165,
     "metadata": {
     },
     "output_type": "execute_result"
    }
   ],
   "source": [
    "Pol_funds.plot.scatter('TAPS', 'NO2ug/m3 mean 2013',c = 'SELFGENERATEDINCOME', colormap = 'gist_rainbow', title = 'Pollution-Academic Performance-Self Generated Income relationship')\n",
    "plt.xlabel(\"Academic Performance\")\n",
    "plt.ylabel(\"Concentration of NO2(ug/m3)\")"
   ]
  },
  {
   "cell_type": "code",
   "execution_count": 145,
   "metadata": {
    "collapsed": false
   },
   "outputs": [
    {
     "data": {
      "text/plain": [
       "Text(0,0.5,'Self generated income')"
      ]
     },
     "execution_count": 145,
     "metadata": {
     },
     "output_type": "execute_result"
    },
    {
     "data": {
      "image/png": "[encoded data removed]"
     },
     "execution_count": 145,
     "metadata": {
     },
     "output_type": "execute_result"
    }
   ],
   "source": [
    "Pol_funds.plot.scatter('TAPS', 'SELFGENERATEDINCOME', title = 'Self Generated Income-Academic Performance relationship')\n",
    "plt.xlabel(\"Academic Performance\")\n",
    "plt.ylabel('Self generated income')"
   ]
  },
  {
   "cell_type": "code",
   "execution_count": 146,
   "metadata": {
    "collapsed": false
   },
   "outputs": [
    {
     "data": {
      "text/html": [
       "<div>\n",
       "<style scoped>\n",
       "    .dataframe tbody tr th:only-of-type {\n",
       "        vertical-align: middle;\n",
       "    }\n",
       "\n",
       "    .dataframe tbody tr th {\n",
       "        vertical-align: top;\n",
       "    }\n",
       "\n",
       "    .dataframe thead th {\n",
       "        text-align: right;\n",
       "    }\n",
       "</style>\n",
       "<table border=\"1\" class=\"dataframe\">\n",
       "  <thead>\n",
       "    <tr style=\"text-align: right;\">\n",
       "      <th></th>\n",
       "      <th>URN</th>\n",
       "      <th>Establisment name</th>\n",
       "      <th>Type of Establishment</th>\n",
       "      <th>Phase of education</th>\n",
       "      <th>NO2ug/m3 mean 2013</th>\n",
       "      <th>Above limit</th>\n",
       "      <th>Establishment Status</th>\n",
       "      <th>ALPHAIND</th>\n",
       "      <th>LEA</th>\n",
       "      <th>ESTAB</th>\n",
       "      <th>...</th>\n",
       "      <th>PT1112CAT3LA</th>\n",
       "      <th>PT1213CAT3LA</th>\n",
       "      <th>PT0910CAT4LA</th>\n",
       "      <th>PT1011CAT4LA</th>\n",
       "      <th>PT1112CAT4LA</th>\n",
       "      <th>PT1213CAT4LA</th>\n",
       "      <th>PT0910CAT5LA</th>\n",
       "      <th>PT1011CAT5LA</th>\n",
       "      <th>PT1112CAT5LA</th>\n",
       "      <th>PT1213CAT5LA</th>\n",
       "    </tr>\n",
       "  </thead>\n",
       "  <tbody>\n",
       "    <tr>\n",
       "      <th>1130</th>\n",
       "      <td>100763</td>\n",
       "      <td>New Woodlands School</td>\n",
       "      <td>Community Special School</td>\n",
       "      <td>Not applicable</td>\n",
       "      <td>31.2</td>\n",
       "      <td>No</td>\n",
       "      <td>Open</td>\n",
       "      <td>33568.0</td>\n",
       "      <td>209.0</td>\n",
       "      <td>7141.0</td>\n",
       "      <td>...</td>\n",
       "      <td>NaN</td>\n",
       "      <td>NaN</td>\n",
       "      <td>NaN</td>\n",
       "      <td>NaN</td>\n",
       "      <td>NaN</td>\n",
       "      <td>NaN</td>\n",
       "      <td>NaN</td>\n",
       "      <td>NaN</td>\n",
       "      <td>NaN</td>\n",
       "      <td>NaN</td>\n",
       "    </tr>\n",
       "  </tbody>\n",
       "</table>\n",
       "<p>1 rows × 407 columns</p>\n",
       "</div>"
      ]
     },
     "execution_count": 146,
     "metadata": {
     },
     "output_type": "execute_result"
    }
   ],
   "source": [
    "Pol_funds[Pol_funds['SELFGENERATEDINCOME']>60000]"
   ]
  },
  {
   "cell_type": "markdown",
   "metadata": {
    "collapsed": false
   },
   "source": [
    "This is the same school that is receiving the most grants."
   ]
  },
  {
   "cell_type": "code",
   "execution_count": 163,
   "metadata": {
    "collapsed": false
   },
   "outputs": [
    {
     "data": {
      "text/plain": [
       "Text(0,0.5,'Self generated income')"
      ]
     },
     "execution_count": 163,
     "metadata": {
     },
     "output_type": "execute_result"
    },
    {
     "data": {
      "image/png": "[encoded data removed]"
     },
     "execution_count": 163,
     "metadata": {
     },
     "output_type": "execute_result"
    }
   ],
   "source": [
    "funding_absences.plot.scatter('NO2ug/m3 mean 2013', 'SELFGENERATEDINCOME', title = 'Self Generated Income-Pollution relationship')\n",
    "plt.xlabel(\"Concentration of NO2(ug/m3)\")\n",
    "plt.ylabel(\"Self generated income\")"
   ]
  },
  {
   "cell_type": "code",
   "execution_count": 162,
   "metadata": {
    "collapsed": false
   },
   "outputs": [
    {
     "data": {
      "text/plain": [
       "Text(0,0.5,'Self generated income')"
      ]
     },
     "execution_count": 162,
     "metadata": {
     },
     "output_type": "execute_result"
    },
    {
     "data": {
      "image/png": "[encoded data removed]"
     },
     "execution_count": 162,
     "metadata": {
     },
     "output_type": "execute_result"
    }
   ],
   "source": [
    "funding_absences.plot.scatter('PERCTOT', 'SELFGENERATEDINCOME', title = 'Self Generated Income-Absences relationship')\n",
    "plt.xlabel(\"Absences\")\n",
    "plt.ylabel(\"Self generated income\")"
   ]
  },
  {
   "cell_type": "markdown",
   "metadata": {
    "collapsed": false
   },
   "source": [
    "# Let's now look at the total income"
   ]
  },
  {
   "cell_type": "code",
   "execution_count": 149,
   "metadata": {
    "collapsed": false
   },
   "outputs": [
    {
     "data": {
      "text/plain": [
       "Text(0,0.5,'Concentration of NO2(ug/m3)')"
      ]
     },
     "execution_count": 149,
     "metadata": {
     },
     "output_type": "execute_result"
    },
    {
     "data": {
      "image/png": "[encoded data removed]"
     },
     "execution_count": 149,
     "metadata": {
     },
     "output_type": "execute_result"
    }
   ],
   "source": [
    "Pol_funds.plot.scatter('TAPS', 'NO2ug/m3 mean 2013',c = 'TOTALINCOME', colormap = 'gist_rainbow', title = 'Pollution-Academic Performance-Total Income relationship')\n",
    "plt.xlabel(\"Academic performance\")\n",
    "plt.ylabel(\"Concentration of NO2(ug/m3)\")"
   ]
  },
  {
   "cell_type": "code",
   "execution_count": 150,
   "metadata": {
    "collapsed": false
   },
   "outputs": [
    {
     "data": {
      "image/png": "[encoded data removed]"
     },
     "execution_count": 150,
     "metadata": {
     },
     "output_type": "execute_result"
    }
   ],
   "source": [
    "funding_absences.plot.scatter('PERCTOT', 'NO2ug/m3 mean 2013',c = 'TOTALINCOME', colormap = 'gist_rainbow', title = 'Pollution-Absence-TotalIncome relationship')\n",
    "plt.xlabel(\"Absences\")\n",
    "plt.ylabel(\"Concentration of NO2(ug/m3)\")\n",
    "plt.show()"
   ]
  },
  {
   "cell_type": "code",
   "execution_count": 151,
   "metadata": {
    "collapsed": false
   },
   "outputs": [
    {
     "data": {
      "text/plain": [
       "Text(0,0.5,'Total income')"
      ]
     },
     "execution_count": 151,
     "metadata": {
     },
     "output_type": "execute_result"
    },
    {
     "data": {
      "image/png": "[encoded data removed]"
     },
     "execution_count": 151,
     "metadata": {
     },
     "output_type": "execute_result"
    }
   ],
   "source": [
    "funding_absences.plot.scatter('NO2ug/m3 mean 2013', 'TOTALINCOME', title = 'Total Income-Pollution relationship')\n",
    "plt.xlabel(\"Concentration of NO2 mean in 2013 (ug/m3)\")\n",
    "plt.ylabel(\"Total income\")"
   ]
  },
  {
   "cell_type": "code",
   "execution_count": 152,
   "metadata": {
    "collapsed": false
   },
   "outputs": [
    {
     "data": {
      "text/plain": [
       "Text(0,0.5,'Total income')"
      ]
     },
     "execution_count": 152,
     "metadata": {
     },
     "output_type": "execute_result"
    },
    {
     "data": {
      "image/png": "[encoded data removed]"
     },
     "execution_count": 152,
     "metadata": {
     },
     "output_type": "execute_result"
    }
   ],
   "source": [
    "funding_absences.plot.scatter('PERCTOT', 'TOTALINCOME', title = 'Total Income-Absences relationship')\n",
    "plt.xlabel(\"Absences\")\n",
    "plt.ylabel(\"Total income\")"
   ]
  },
  {
   "cell_type": "markdown",
   "metadata": {
    "collapsed": false
   },
   "source": [
    "We observe nothing new, so we will move on to the correlation we found between pollution and grants."
   ]
  },
  {
   "cell_type": "markdown",
   "metadata": {
    "collapsed": false
   },
   "source": [
    "## A closer look at the pollution-grants correlation"
   ]
  },
  {
   "cell_type": "code",
   "execution_count": 153,
   "metadata": {
    "collapsed": false
   },
   "outputs": [
   ],
   "source": [
    "from scipy.stats import linregress\n",
    "line = linregress(funding_absences['NO2ug/m3 mean 2013'], funding_absences['GRANTFUNDING'])\n",
    "slope = line [0]\n",
    "intercept = line[1]"
   ]
  },
  {
   "cell_type": "markdown",
   "metadata": {
    "collapsed": false
   },
   "source": [
    "scipy.stats.linrgress is a function that can calculate a linear least-squares regression for two sets of measurements. "
   ]
  },
  {
   "cell_type": "code",
   "execution_count": 154,
   "metadata": {
    "collapsed": false
   },
   "outputs": [
   ],
   "source": [
    "predict = funding_absences['NO2ug/m3 mean 2013']*slope + intercept"
   ]
  },
  {
   "cell_type": "code",
   "execution_count": 155,
   "metadata": {
    "collapsed": false
   },
   "outputs": [
    {
     "data": {
      "text/plain": [
       "<matplotlib.legend.Legend object at 0x7f48e880cad0>"
      ]
     },
     "execution_count": 155,
     "metadata": {
     },
     "output_type": "execute_result"
    },
    {
     "data": {
      "image/png": "[encoded data removed]"
     },
     "execution_count": 155,
     "metadata": {
     },
     "output_type": "execute_result"
    }
   ],
   "source": [
    "funding_absences.plot.scatter('NO2ug/m3 mean 2013', 'GRANTFUNDING', label = 'data')\n",
    "plt.plot(funding_absences['NO2ug/m3 mean 2013'], predict,'ro', label = 'line of best fit')\n",
    "plt.xlabel(\"Concentration of NO2 mean in 2013 (ug/m3)\")\n",
    "plt.ylabel(\"Grant money\")\n",
    "plt.title('GrantFunding-Pollution relationship')\n",
    "plt.legend()"
   ]
  },
  {
   "cell_type": "markdown",
   "metadata": {
    "collapsed": false
   },
   "source": [
    "This plot displays the line of best fit(red), over the correlation data(blue)."
   ]
  },
  {
   "cell_type": "code",
   "execution_count": 156,
   "metadata": {
    "collapsed": false
   },
   "outputs": [
   ],
   "source": [
    "yerr = funding_absences['GRANTFUNDING']-predict"
   ]
  },
  {
   "cell_type": "code",
   "execution_count": 167,
   "metadata": {
    "collapsed": false,
    "scrolled": true
   },
   "outputs": [
    {
     "data": {
      "text/plain": [
       "Text(0.5,1,'Grant Funding-Pollution relationship')"
      ]
     },
     "execution_count": 167,
     "metadata": {
     },
     "output_type": "execute_result"
    },
    {
     "data": {
      "image/png": "[encoded data removed]"
     },
     "execution_count": 167,
     "metadata": {
     },
     "output_type": "execute_result"
    }
   ],
   "source": [
    "plt.plot(funding_absences['NO2ug/m3 mean 2013'], predict,'ro', label = 'Line of best fit')\n",
    "plt.errorbar(funding_absences['NO2ug/m3 mean 2013'],predict,yerr=yerr, fmt='ko', elinewidth=0.5, barsabove = True, label='error bars')\n",
    "plt.xlabel(\"Concentration of NO2 mean in 2013 (ug/m3)\")\n",
    "plt.ylabel(\"Grant money\")\n",
    "plt.legend(loc='lower right')\n",
    "plt.title('Grant Funding-Pollution relationship')"
   ]
  },
  {
   "cell_type": "markdown",
   "metadata": {
    "collapsed": false
   },
   "source": [
    "This graph shows the line of best fit over the error bars of each point on the line."
   ]
  },
  {
   "cell_type": "markdown",
   "metadata": {
    "collapsed": false
   },
   "source": [
    "## Conclusion"
   ]
  },
  {
   "cell_type": "markdown",
   "metadata": {
    "collapsed": false
   },
   "source": [
    "Although the it was concluded by the literature reviews that there was positive association between level of pollution and absence and there was strong negative association between level of pollution and academic performance from primary education, the scatter plots and differences between median values of institutions above and under pollution limit showed that there was no correlation between absence and pollution and also no correlation between academic performance. Then the analysis of the relationship of grant funding, self-generated income and total income with pollution, academic performance and absences respectively was done. There was a special school called New Woodlands School that had extremely high funding and income. In the last section, the best fit lines were added into the scatter plot of grant funding and pollution, and it was clear to see that there was a strong positive correlation between these two variables. The reason we may not have found a correlation between pollution and performance and absence, like there was in the literature, is because our data wasnt collected from controlled experiments. Also the data would have been collected on different days, and for different lengths of time, so the influence of chance would have a great impact on the data."
   ]
  }
 ],
 "metadata": {
  "kernelspec": {
   "display_name": "SageMath (system-wide)",
   "language": "sagemath",
   "metadata": {
    "cocalc": {
     "description": "Open-source mathematical software system",
     "priority": -1,
     "url": "https://www.sagemath.org/"
    }
   },
   "name": "sagemath",
   "resource_dir": "/ext/jupyter/kernels/sagemath"
  },
  "language_info": {
   "codemirror_mode": {
    "name": "ipython",
    "version": 2
   },
   "file_extension": ".py",
   "mimetype": "text/x-python",
   "name": "python",
   "nbconvert_exporter": "python",
   "pygments_lexer": "ipython2",
   "version": "2.7.15"
  }
 },
 "nbformat": 4,
 "nbformat_minor": 4
}