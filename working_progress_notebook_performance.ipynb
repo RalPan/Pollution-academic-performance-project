{
 "cells": [
  {
   "cell_type": "markdown",
   "metadata": {
    "collapsed": false
   },
   "source": [
    "This is a notebook which we used to work out of, then when something worked we transfered it to the README for safe keeping. This notebook shows the different code we tried, and the working final code which is also in the README."
   ]
  },
  {
   "cell_type": "code",
   "execution_count": 2,
   "metadata": {
    "collapsed": false
   },
   "outputs": [
   ],
   "source": [
    "import numpy as np\n",
    "import matplotlib.pyplot as plt\n",
    "import random\n",
    "%matplotlib inline\n",
    "\n",
    "# Fancy plots\n",
    "plt.style.use('fivethirtyeight')\n",
    "\n",
    "import pandas as pd"
   ]
  },
  {
   "cell_type": "code",
   "execution_count": 3,
   "metadata": {
    "collapsed": false
   },
   "outputs": [
    {
     "name": "stderr",
     "output_type": "stream",
     "text": [
      "WARNING: Some output was deleted.\n"
     ]
    }
   ],
   "source": [
    "performance_data = pd.read_csv('england_ks2final_primary.csv')\n",
    "performance_data"
   ]
  },
  {
   "cell_type": "markdown",
   "metadata": {
    "collapsed": false
   },
   "source": [
    "I merged the two cells above into one cell in the README, to make it a bit more efficiant"
   ]
  },
  {
   "cell_type": "code",
   "execution_count": 4,
   "metadata": {
    "collapsed": false
   },
   "outputs": [
    {
     "data": {
      "text/plain": [
       "Index([u'RECTYPE', u'ALPHAIND', u'LEA', u'ESTAB', u'URN', u'SCHNAME',\n",
       "       u'ADDRESS1', u'ADDRESS2', u'ADDRESS3', u'TOWN',\n",
       "       ...\n",
       "       u'GAP_2YR_PRWRIT', u'GAP_3YR_PRMAT', u'GAPN_3YR_RWMX_FSMCLA',\n",
       "       u'GAPN_2YR_PRREAD_FSMCLA', u'GAPN_2YR_PRWRIT_FSMCLA',\n",
       "       u'GAPN_3YR_PRMAT_FSMCLA', u'GAPN_3YR_RWMX_NOTFSMCLA',\n",
       "       u'GAPN_2YR_PRREAD_NOTFSMCLA', u'GAPN_2YR_PRWRIT_NOTFSMCLA',\n",
       "       u'GAPN_3YR_PRMAT_NOTFSMCLA'],\n",
       "      dtype='object', length=300)"
      ]
     },
     "execution_count": 4,
     "metadata": {
     },
     "output_type": "execute_result"
    }
   ],
   "source": [
    "performance_data.columns"
   ]
  },
  {
   "cell_type": "code",
   "execution_count": 5,
   "metadata": {
    "collapsed": false
   },
   "outputs": [
   ],
   "source": [
    "performance_data = performance_data.drop(['RECTYPE','PCODE','TELNUM','PKS1EXP_L'],axis=1)"
   ]
  },
  {
   "cell_type": "markdown",
   "metadata": {
    "collapsed": false
   },
   "source": [
    "Do we need a list of columns? Yes, to clean those we don't need."
   ]
  },
  {
   "cell_type": "code",
   "execution_count": 6,
   "metadata": {
    "collapsed": false
   },
   "outputs": [
   ],
   "source": [
    "schoolpolutiondata = pd.read_csv('school polution.csv')\n",
    "schoolpolutiondata = schoolpolutiondata.drop(['Unnamed: 12', 'Close Date'],axis=1)\n",
    "\n",
    "primary_data = schoolpolutiondata[schoolpolutiondata['Phase of education'] == 'Primary']\n",
    "\n",
    "#Absences = pd.read_csv('england_abs.csv')\n",
    "\n",
    "#Absences_polution=pd.merge(Absences, primary_data, on='URN')\n",
    "\n",
    "#Absences_polution = Absences_polution.drop (['Unnamed: 12', 'Close Date', 'PPERSABS15'], axis=1)"
   ]
  },
  {
   "cell_type": "code",
   "execution_count": 7,
   "metadata": {
    "collapsed": false
   },
   "outputs": [
   ],
   "source": [
    "#https://pandas.pydata.org/pandas-docs/stable/user_guide/merging.html\n",
    "performance_abs_pol = pd.merge(schoolpolutiondata, performance_data, on='URN')"
   ]
  },
  {
   "cell_type": "markdown",
   "metadata": {
    "collapsed": false
   },
   "source": [
    "I merged the two cells above in the README file."
   ]
  },
  {
   "cell_type": "markdown",
   "metadata": {
    "collapsed": false
   },
   "source": [
    "# What follows are failed attempts of cleaning up data"
   ]
  },
  {
   "cell_type": "markdown",
   "metadata": {
    "collapsed": false
   },
   "source": [
    "###### Attempt 1:\n",
    "    Null_values = performance_abs_pol['TAPS'].isnull()\n",
    "    Clean = Null_values['TAPS'].isnull() == False\n",
    "    Clean_perf_abs_pol = performance_abs_pol[Clean]\n",
    "    Clean_perf_abs_pol = Clean_perf_abs_pol[Clean_perf_abs_pol['TAPS']!='SUPP']\n",
    "    Clean_perf_abs_pol = Clean_perf_abs_pol[Clean_perf_abs_pol['TAPS']!='NA']"
   ]
  },
  {
   "cell_type": "markdown",
   "metadata": {
    "collapsed": false
   },
   "source": [
    "###### Attempt 2:\n",
    "\n",
    "    #this code finds non float values\n",
    "    cnt = 0\n",
    "    for row in performance_abs_pol['TAPS']:\n",
    "        if type(row)== float:\n",
    "            print(row)\n",
    "            print('not float')\n",
    "        cnt += 1"
   ]
  },
  {
   "cell_type": "markdown",
   "metadata": {
    "collapsed": false
   },
   "source": [
    "###### Attempt 2.5: Made a variable TAPS to store the values needed and then realized it would be harder to corelate it back to the data frame than just sliceing the data frame:\n",
    "    TAPS = np.zeros(len(performance_abs_pol['TAPS']))\n",
    "    cnt = 0\n",
    "    delete = 0\n",
    "    for row in performance_abs_pol['TAPS']:\n",
    "        if row is not np.nan:\n",
    "            if isfloat(row) == True:\n",
    "                TAPS[cnt] = float(row)\n",
    "                cnt += 1\n",
    "            else:\n",
    "                delete+=1\n",
    "        else:\n",
    "            delete+=1\n",
    "    TAPS = TAPS[:-delete]"
   ]
  },
  {
   "cell_type": "markdown",
   "metadata": {
    "collapsed": false
   },
   "source": [
    "# But wait, there is more!\n",
    "###### Attempt 3:\n",
    "    for row in performance_abs_pol['TAPS']:\n",
    "        if row is not np.nan:\n",
    "            if isfloat(row):\n",
    "                performance_abs_pol['TAPS'][cnt] = float(row)\n",
    "            else:\n",
    "                performance_abs_pol['TAPS'][cnt] = np.nan\n",
    "                b=cnt\n",
    "        cnt += 1\n",
    "    print (type(performance_abs_pol['TAPS'][0]))"
   ]
  },
  {
   "cell_type": "markdown",
   "metadata": {
    "collapsed": false
   },
   "source": [
    "# Then we finaly found what works"
   ]
  },
  {
   "cell_type": "markdown",
   "metadata": {
    "collapsed": false
   },
   "source": [
    "How it works:\n",
    "I found a function that checks if a value can be converted into a float and put it in the cell below.\n",
    "Source: Eric Leschinski: https://stackoverflow.com/questions/736043/checking-if-a-string-can-be-converted-to-float-in-python\n",
    "\n",
    "The way it does that is: it attempts to convert the variable to float by using the function float(). We expect to have the following non float values: NaN, NA and SUPP. NaN will be pass throu the function and will be verified directly. The other non float values will raise \"ValueError\". This error is accounted for in the function and makes the function return \"False\"."
   ]
  },
  {
   "cell_type": "code",
   "execution_count": 8,
   "metadata": {
    "collapsed": false
   },
   "outputs": [
   ],
   "source": [
    "def isfloat(value):\n",
    "  try:\n",
    "    float(value)      #try to convert to float\n",
    "    return True\n",
    "  except ValueError:  #it's a word so it can't convert to float\n",
    "    return False"
   ]
  },
  {
   "cell_type": "code",
   "execution_count": 9,
   "metadata": {
    "collapsed": false
   },
   "outputs": [
    {
     "data": {
      "text/plain": [
       "True"
      ]
     },
     "execution_count": 9,
     "metadata": {
     },
     "output_type": "execute_result"
    }
   ],
   "source": [
    "isfloat('12.98')"
   ]
  },
  {
   "cell_type": "code",
   "execution_count": 10,
   "metadata": {
    "collapsed": false
   },
   "outputs": [
    {
     "data": {
      "text/plain": [
       "False"
      ]
     },
     "execution_count": 10,
     "metadata": {
     },
     "output_type": "execute_result"
    }
   ],
   "source": [
    "isfloat('SUPP')"
   ]
  },
  {
   "cell_type": "code",
   "execution_count": 11,
   "metadata": {
    "collapsed": false
   },
   "outputs": [
    {
     "data": {
      "text/plain": [
       "True"
      ]
     },
     "execution_count": 11,
     "metadata": {
     },
     "output_type": "execute_result"
    }
   ],
   "source": [
    "isfloat(NaN)"
   ]
  },
  {
   "cell_type": "markdown",
   "metadata": {
    "collapsed": false
   },
   "source": [
    "Then, we make a bool array(clean) of lenght equal to that of the colomn we want to sort.\n",
    "\n",
    "The array will have True at the positions of numbers and False at the positions of words and NaN values"
   ]
  },
  {
   "cell_type": "code",
   "execution_count": 12,
   "metadata": {
    "collapsed": false
   },
   "outputs": [
   ],
   "source": [
    "#used to have isfloat(row)==True, then realized it was redundent\n",
    "clean = np.zeros(len(performance_abs_pol['TAPS']),dtype=bool)\n",
    "cnt = 0\n",
    "delete = 0\n",
    "for row in performance_abs_pol['TAPS']:\n",
    "    if row is not np.nan and isfloat(row):\n",
    "        clean[cnt] = True\n",
    "    else:\n",
    "        clean[cnt] = False\n",
    "    cnt += 1"
   ]
  },
  {
   "cell_type": "markdown",
   "metadata": {
    "collapsed": false
   },
   "source": [
    "After that we use \"clean\" to sort the data frame"
   ]
  },
  {
   "cell_type": "code",
   "execution_count": 13,
   "metadata": {
    "collapsed": false,
    "scrolled": true
   },
   "outputs": [
   ],
   "source": [
    "#This delets all non numbers\n",
    "Clean_perf_abs_pol = performance_abs_pol[clean]"
   ]
  },
  {
   "cell_type": "code",
   "execution_count": 14,
   "metadata": {
    "collapsed": false
   },
   "outputs": [
    {
     "name": "stderr",
     "output_type": "stream",
     "text": [
      "/ext/sage/sage-8.6_1804/local/lib/python2.7/site-packages/sage/repl/ipython_kernel/__main__.py:3: SettingWithCopyWarning: \n",
      "A value is trying to be set on a copy of a slice from a DataFrame.\n",
      "Try using .loc[row_indexer,col_indexer] = value instead\n",
      "\n",
      "See the caveats in the documentation: http://pandas.pydata.org/pandas-docs/stable/indexing.html#indexing-view-versus-copy\n",
      "  IPKernelApp.launch_instance(kernel_class=SageKernel)\n"
     ]
    }
   ],
   "source": [
    "#This makes the remaining data in float\n",
    "#It also gives a warning but if I try to put loc anywhere it gives an error\n",
    "Clean_perf_abs_pol[\"TAPS\"] = Clean_perf_abs_pol[\"TAPS\"].astype(np.float)"
   ]
  },
  {
   "cell_type": "code",
   "execution_count": 15,
   "metadata": {
    "collapsed": false,
    "scrolled": true
   },
   "outputs": [
    {
     "name": "stdout",
     "output_type": "stream",
     "text": [
      "[1503, 1503]\n"
     ]
    }
   ],
   "source": [
    "#https://stackoverflow.com/questions/49887707/python-with-pandas-keyerror-uthe-label-422-is-not-in-the-index\n",
    "#This checkes how many floats are in the rubric we are interested in compared to the total\n",
    "cnt = 0\n",
    "a = 0\n",
    "for i in Clean_perf_abs_pol[\"TAPS\"]:\n",
    "    a += 1\n",
    "    if type(i) == float:\n",
    "        cnt += 1\n",
    "print [a,cnt]"
   ]
  },
  {
   "cell_type": "code",
   "execution_count": 16,
   "metadata": {
    "collapsed": false
   },
   "outputs": [
   ],
   "source": [
    "#GRANTFUNDING\n",
    "funds = pd.read_csv('england_cfr.csv')"
   ]
  },
  {
   "cell_type": "code",
   "execution_count": 17,
   "metadata": {
    "collapsed": false
   },
   "outputs": [
   ],
   "source": [
    "new = pd.merge(Clean_perf_abs_pol,funds,on = 'URN')"
   ]
  },
  {
   "cell_type": "code",
   "execution_count": 18,
   "metadata": {
    "collapsed": false
   },
   "outputs": [
    {
     "data": {
      "text/plain": [
       "<matplotlib.axes._subplots.AxesSubplot object at 0x7fc5364bea90>"
      ]
     },
     "execution_count": 18,
     "metadata": {
     },
     "output_type": "execute_result"
    },
    {
     "data": {
      "image/png": "[encoded data removed]"
     },
     "execution_count": 18,
     "metadata": {
     },
     "output_type": "execute_result"
    }
   ],
   "source": [
    "new.plot.scatter('TAPS', 'NO2ug/m3 mean 2013',c = 'GRANTFUNDING', colormap = 'gist_rainbow')"
   ]
  },
  {
   "cell_type": "code",
   "execution_count": 19,
   "metadata": {
    "collapsed": false
   },
   "outputs": [
   ],
   "source": [
    "Above = Clean_perf_abs_pol[Clean_perf_abs_pol['Above limit']=='Yes']\n",
    "Under = Clean_perf_abs_pol[Clean_perf_abs_pol['Above limit']=='No']"
   ]
  },
  {
   "cell_type": "code",
   "execution_count": 20,
   "metadata": {
    "collapsed": false
   },
   "outputs": [
    {
     "data": {
      "text/plain": [
       "29.0"
      ]
     },
     "execution_count": 20,
     "metadata": {
     },
     "output_type": "execute_result"
    }
   ],
   "source": [
    "np.median(Clean_perf_abs_pol['TAPS'])"
   ]
  },
  {
   "cell_type": "code",
   "execution_count": 21,
   "metadata": {
    "collapsed": false,
    "scrolled": true
   },
   "outputs": [
    {
     "data": {
      "text/plain": [
       "28.7"
      ]
     },
     "execution_count": 21,
     "metadata": {
     },
     "output_type": "execute_result"
    }
   ],
   "source": [
    "np.median(Above['TAPS'])"
   ]
  },
  {
   "cell_type": "code",
   "execution_count": 22,
   "metadata": {
    "collapsed": false
   },
   "outputs": [
    {
     "data": {
      "text/plain": [
       "29.1"
      ]
     },
     "execution_count": 22,
     "metadata": {
     },
     "output_type": "execute_result"
    }
   ],
   "source": [
    "np.median(Under['TAPS'])"
   ]
  },
  {
   "cell_type": "code",
   "execution_count": 23,
   "metadata": {
    "collapsed": false
   },
   "outputs": [
   ],
   "source": [
    "#do simulation"
   ]
  },
  {
   "cell_type": "markdown",
   "metadata": {
    "collapsed": false
   },
   "source": [
    "Here I am changing the data frame above into an array so I can shuffle it to run a simulation (like Matthew said)."
   ]
  },
  {
   "cell_type": "code",
   "execution_count": 24,
   "metadata": {
    "collapsed": false
   },
   "outputs": [
    {
     "data": {
      "text/plain": [
       "array([28.1, 27.8, 27.8, ..., 27.3, 31.1, 29.6])"
      ]
     },
     "execution_count": 24,
     "metadata": {
     },
     "output_type": "execute_result"
    }
   ],
   "source": [
    "clean_perf_TAPS_array = Clean_perf_abs_pol['TAPS'].values\n",
    "clean_perf_TAPS_array"
   ]
  },
  {
   "cell_type": "code",
   "execution_count": 25,
   "metadata": {
    "collapsed": false
   },
   "outputs": [
    {
     "data": {
      "text/plain": [
       "array([67. , 65.2, 38.3, ..., 23.5, 23.3, 23. ])"
      ]
     },
     "execution_count": 25,
     "metadata": {
     },
     "output_type": "execute_result"
    }
   ],
   "source": [
    "clean_perf_NO2_array = Clean_perf_abs_pol['NO2ug/m3 mean 2013'].values\n",
    "clean_perf_NO2_array"
   ]
  },
  {
   "cell_type": "code",
   "execution_count": 26,
   "metadata": {
    "collapsed": false
   },
   "outputs": [
   ],
   "source": [
    "random.shuffle(clean_perf_TAPS_array)\n",
    "random.shuffle(clean_perf_NO2_array)"
   ]
  },
  {
   "cell_type": "code",
   "execution_count": 27,
   "metadata": {
    "collapsed": false
   },
   "outputs": [
    {
     "data": {
      "text/plain": [
       "array([14.9, 29.1, 30.9, ..., 29.2, 29.7, 28.4])"
      ]
     },
     "execution_count": 27,
     "metadata": {
     },
     "output_type": "execute_result"
    }
   ],
   "source": [
    "clean_perf_TAPS_array"
   ]
  },
  {
   "cell_type": "code",
   "execution_count": 28,
   "metadata": {
    "collapsed": false
   },
   "outputs": [
    {
     "data": {
      "text/plain": [
       "array([31. , 42.1, 34.1, ..., 31.4, 43.6, 35.5])"
      ]
     },
     "execution_count": 28,
     "metadata": {
     },
     "output_type": "execute_result"
    }
   ],
   "source": [
    "clean_perf_NO2_array"
   ]
  },
  {
   "cell_type": "code",
   "execution_count": 29,
   "metadata": {
    "collapsed": false
   },
   "outputs": [
    {
     "data": {
      "text/plain": [
       "<matplotlib.collections.PathCollection object at 0x7fc535a98c50>"
      ]
     },
     "execution_count": 29,
     "metadata": {
     },
     "output_type": "execute_result"
    },
    {
     "data": {
      "image/png": "[encoded data removed]"
     },
     "execution_count": 29,
     "metadata": {
     },
     "output_type": "execute_result"
    }
   ],
   "source": [
    "plt.scatter(clean_perf_TAPS_array,clean_perf_NO2_array)"
   ]
  },
  {
   "cell_type": "code",
   "execution_count": 30,
   "metadata": {
    "collapsed": false
   },
   "outputs": [
   ],
   "source": [
    "TAPS = Clean_perf_abs_pol['TAPS']\n",
    "polution = Clean_perf_abs_pol['NO2ug/m3 mean 2013']"
   ]
  }
 ],
 "metadata": {
  "kernelspec": {
   "display_name": "SageMath (stable)",
   "language": "sagemath",
   "metadata": {
    "cocalc": {
     "description": "Open-source mathematical software system",
     "priority": 10,
     "url": "https://www.sagemath.org/"
    }
   },
   "name": "sagemath"
  },
  "language_info": {
   "codemirror_mode": {
    "name": "ipython",
    "version": 2
   },
   "file_extension": ".py",
   "mimetype": "text/x-python",
   "name": "python",
   "nbconvert_exporter": "python",
   "pygments_lexer": "ipython2",
   "version": "2.7.15"
  }
 },
 "nbformat": 4,
 "nbformat_minor": 0
}